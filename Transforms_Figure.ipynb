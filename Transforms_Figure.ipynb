{
 "cells": [
  {
   "cell_type": "code",
   "execution_count": null,
   "id": "9a12bbb1-ec07-4d94-ac0c-0182feb19688",
   "metadata": {},
   "outputs": [],
   "source": [
    "import numpy as np\n",
    "import matplotlib.pyplot as plt\n",
    "\n",
    "### my library\n",
    "\n",
    "import utils\n",
    "import images\n",
    "import transforms"
   ]
  },
  {
   "cell_type": "code",
   "execution_count": null,
   "id": "c0624921-5325-4224-8e45-a64f2e5416c0",
   "metadata": {},
   "outputs": [],
   "source": [
    "L = 129\n",
    "sigma = 5\n",
    "\n",
    "img = np.zeros((L,L))\n",
    "\n",
    "img[43, 43]=1\n",
    "img[43, 86]=1\n",
    "img[86, 64]=1\n",
    "\n",
    "g = utils.generate_centered_gaussian(L=L, d=2, sigma=sigma)\n",
    "f = utils.signal_convolution(img, g)\n",
    "f = images.Image(f).preprocess_images()"
   ]
  },
  {
   "cell_type": "code",
   "execution_count": null,
   "id": "640c6add-2e0b-41dd-84b7-1ae293e8a4db",
   "metadata": {},
   "outputs": [],
   "source": [
    "proj_angles = np.linspace(0, 360, L, endpoint=False)\n",
    "p = L + 1\n",
    "\n",
    "f_nudft = transforms.Transform(f, n_points=p, angles=proj_angles, apply_ramp=True).polar_nufft()\n",
    "f_rt = transforms.Transform(f, n_points=p, angles=proj_angles, apply_ramp=True).radon_transform()\n",
    "f_rt_p, f_rt_n = transforms.hahn_decomposition(f_rt)\n",
    "f_cdf_p, f_cdf_n = transforms.Transform(f, n_points=p, angles=proj_angles, apply_ramp=True).signed_cdf_transform()\n",
    "f_icdf_p, f_icdf_n = transforms.Transform(f, n_points=p, angles=proj_angles, apply_ramp=True).signed_inverse_cdf_transform()"
   ]
  },
  {
   "cell_type": "code",
   "execution_count": null,
   "id": "4d59ef05-ddd9-4019-94d9-aebb511e79ee",
   "metadata": {},
   "outputs": [],
   "source": [
    "print(\"IMAGE\")\n",
    "plt.imshow(f[0])\n",
    "plt.axis('off')\n",
    "plt.show()\n",
    "\n",
    "print(\"NUDFT\")\n",
    "plt.imshow(abs(f_nudft[0]))\n",
    "plt.axis('off')\n",
    "plt.show()\n",
    "\n",
    "print(\"RADON TRANSFORM (ramp)\")\n",
    "plt.imshow(f_rt[0])\n",
    "plt.axis('off')\n",
    "plt.show()\n",
    "\n",
    "print(\"RT positive\")\n",
    "plt.imshow(f_rt_p[0])\n",
    "plt.axis('off')\n",
    "plt.show()\n",
    "\n",
    "print(\"RT negative\")\n",
    "plt.imshow(abs(f_rt_n[0]))\n",
    "plt.axis('off')\n",
    "plt.show()\n",
    "\n",
    "print(\"CDF POSITIVE\")\n",
    "plt.imshow(f_cdf_p[0])\n",
    "plt.axis('off')\n",
    "plt.show()\n",
    "\n",
    "print(\"CDF NEGATIVE\")\n",
    "plt.imshow(f_cdf_n[0])\n",
    "plt.axis('off')\n",
    "plt.show()\n",
    "\n",
    "print(\"ICDF POSITIVE\")\n",
    "plt.imshow(f_icdf_p[0])\n",
    "plt.axis('off')\n",
    "plt.show()\n",
    "\n",
    "print(\"ICDF NEGATIVE\")\n",
    "plt.imshow(f_icdf_n[0])\n",
    "plt.axis('off')\n",
    "plt.show()"
   ]
  },
  {
   "cell_type": "code",
   "execution_count": null,
   "id": "4ec8b262-9f92-463f-b7fb-0f0fecd9d86c",
   "metadata": {},
   "outputs": [],
   "source": []
  }
 ],
 "metadata": {
  "kernelspec": {
   "display_name": "optimal_transport",
   "language": "python",
   "name": "optimal_transport"
  },
  "language_info": {
   "codemirror_mode": {
    "name": "ipython",
    "version": 3
   },
   "file_extension": ".py",
   "mimetype": "text/x-python",
   "name": "python",
   "nbconvert_exporter": "python",
   "pygments_lexer": "ipython3",
   "version": "3.12.9"
  }
 },
 "nbformat": 4,
 "nbformat_minor": 5
}
