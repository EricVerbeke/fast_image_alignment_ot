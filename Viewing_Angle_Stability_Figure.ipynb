{
 "cells": [
  {
   "cell_type": "code",
   "execution_count": null,
   "id": "5136ae57-4a31-4c4c-9018-4219641a27de",
   "metadata": {},
   "outputs": [],
   "source": [
    "import mrcfile\n",
    "\n",
    "import time\n",
    "import numpy as np\n",
    "import matplotlib.pyplot as plt\n",
    "\n",
    "### my library\n",
    "\n",
    "import utils\n",
    "import images\n",
    "import distances\n",
    "import transforms"
   ]
  },
  {
   "cell_type": "code",
   "execution_count": null,
   "id": "5076267c-00b5-4b48-a7ae-7759e849657a",
   "metadata": {},
   "outputs": [],
   "source": [
    "# you will need to download these\n",
    "vol_file = 'Data/emd_11657.map'  # https://www.ebi.ac.uk/emdb/EMD-11657\n",
    "mask_file = 'Data/emd_11657_msk_1.map'  # https://www.ebi.ac.uk/emdb/EMD-11657?tab=interpretation\n",
    "\n",
    "with mrcfile.open(vol_file) as mrc:\n",
    "    vol = mrc.data\n",
    "    vox = mrc.voxel_size.x\n",
    "    mrc.close()\n",
    "    \n",
    "with mrcfile.open(mask_file) as mrc:\n",
    "    mask = mrc.data\n",
    "    mrc.close()\n",
    "\n",
    "vol = vol * mask\n",
    "vol = np.where(vol < 0, 0, vol)\n",
    "vol = vol[70:281, 70:281, 70:281]"
   ]
  },
  {
   "cell_type": "code",
   "execution_count": null,
   "id": "b9175914-b12d-4a81-8956-6179472ab527",
   "metadata": {},
   "outputs": [],
   "source": [
    "# Define projection angles\n",
    "a_max = 45\n",
    "n_projections = 45\n",
    "view_angles = np.linspace(0, a_max, n_projections)\n",
    "\n",
    "# Generate projection images\n",
    "projections = utils.generate_projections(vol, view_angles, axis=0)\n",
    "imgs = images.Image(projections).preprocess_images()"
   ]
  },
  {
   "cell_type": "code",
   "execution_count": null,
   "id": "c6609d88-ff6d-4028-a37a-2f8e6027b211",
   "metadata": {},
   "outputs": [],
   "source": [
    "plt.figure(figsize=(4,4))\n",
    "plt.imshow(imgs[0])\n",
    "plt.axis('off')\n",
    "# plt.savefig('')\n",
    "plt.show()\n",
    "\n",
    "plt.figure(figsize=(4,4))\n",
    "plt.imshow(imgs[-1])\n",
    "plt.axis('off')\n",
    "# plt.savefig('')\n",
    "plt.show()\n",
    "\n",
    "plt.figure(figsize=(4,4))\n",
    "plt.imshow(imgs[0] - imgs[-1])\n",
    "plt.axis('off')\n",
    "# plt.savefig('')\n",
    "plt.show()"
   ]
  },
  {
   "cell_type": "code",
   "execution_count": null,
   "id": "5f76dc74-f619-45ed-b66c-5c4ab6cdcac7",
   "metadata": {},
   "outputs": [],
   "source": [
    "N, ny, nx = imgs.shape\n",
    "p = ny + 1\n",
    "proj_angles = np.linspace(0, 360, ny, endpoint=False)\n",
    "\n",
    "## Euclidean Distance\n",
    "t = time.time()\n",
    "dists_l2 = np.array([distances.l2_distance(imgs[0], imgs[idx]) for idx in range(N)])\n",
    "print('  Euclidean distance runtime: ', time.time() - t)\n",
    "\n",
    "### sliced 2-Wasserstein \n",
    "t = time.time()\n",
    "U = transforms.Transform(imgs, apply_ramp=False, angles=proj_angles, n_points=p).inverse_cdf_transform()\n",
    "dists_sw_nrf = np.array([distances.sliced_distance(U[0], U[idx]) for idx in range(N)]) \n",
    "print('sliced 2-Wasserstein runtime: ', time.time() - t)\n",
    "\n",
    "# ### Wasserstein 2\n",
    "# t = time.time()\n",
    "# M = distances.compute_transport_matrix(imgs[0], metric='sqeuclidean')\n",
    "# dists_w2 = np.array([distances.wasserstein_distance(imgs[0], imgs[idx], M) for idx in range(N)])\n",
    "# print('       2-Wasserstein runtime: ', time.time() - t)"
   ]
  },
  {
   "cell_type": "code",
   "execution_count": null,
   "id": "98e04098-7822-42d4-b0b6-97bc404e9fa2",
   "metadata": {},
   "outputs": [],
   "source": [
    "plt.figure(figsize=(8,5))\n",
    "\n",
    "c = {'Euclidean': 'tomato',\n",
    "     '2-Wasserstein': 'forestgreen',\n",
    "     'sliced 2-Wasserstein': 'dodgerblue'}\n",
    "\n",
    "plt.plot(view_angles, dists_l2, color=c['Euclidean'], linewidth=3, label='Euclidean')\n",
    "# plt.plot(view_angles, np.sqrt(dists_w2), color=c['2-Wasserstein'], linewidth=3, label='2-Wasserstein')\n",
    "plt.plot(view_angles, dists_sw_nrf, color=c['sliced 2-Wasserstein'], linewidth=3, label='sliced 2-Wasserstein')\n",
    "\n",
    "plt.xlabel('out of plane rotation (degrees)')\n",
    "plt.ylabel('distance')\n",
    "plt.grid(which='major', linestyle='--')\n",
    "plt.legend()\n",
    "plt.rc('axes', labelsize=11)\n",
    "plt.rc('xtick', labelsize=8)\n",
    "plt.rc('ytick', labelsize=8)\n",
    "plt.rc('legend', fontsize=8)\n",
    "plt.legend(loc='upper left')\n",
    "# plt.savefig('')\n",
    "plt.show()"
   ]
  },
  {
   "cell_type": "code",
   "execution_count": null,
   "id": "458916ef-4f46-4dbc-aa2e-9b7a5350b548",
   "metadata": {},
   "outputs": [],
   "source": []
  }
 ],
 "metadata": {
  "kernelspec": {
   "display_name": "optimal_transport",
   "language": "python",
   "name": "optimal_transport"
  },
  "language_info": {
   "codemirror_mode": {
    "name": "ipython",
    "version": 3
   },
   "file_extension": ".py",
   "mimetype": "text/x-python",
   "name": "python",
   "nbconvert_exporter": "python",
   "pygments_lexer": "ipython3",
   "version": "3.12.9"
  }
 },
 "nbformat": 4,
 "nbformat_minor": 5
}
